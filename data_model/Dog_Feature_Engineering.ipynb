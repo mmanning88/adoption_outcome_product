{
 "cells": [
  {
   "cell_type": "markdown",
   "metadata": {},
   "source": [
    "# Feature Engineering"
   ]
  },
  {
   "cell_type": "markdown",
   "metadata": {},
   "source": [
    "## Import libraries"
   ]
  },
  {
   "cell_type": "code",
   "execution_count": 2,
   "metadata": {},
   "outputs": [],
   "source": [
    "import requests\n",
    "import pandas as pd\n",
    "import numpy as np\n",
    "import matplotlib.pyplot as plt\n",
    "import joblib as jl"
   ]
  },
  {
   "cell_type": "markdown",
   "metadata": {},
   "source": [
    "## Import dataset"
   ]
  },
  {
   "cell_type": "code",
   "execution_count": 3,
   "metadata": {
    "scrolled": true
   },
   "outputs": [
    {
     "name": "stdout",
     "output_type": "stream",
     "text": [
      "Index(['age_upon_outcome', 'animal_id_outcome', 'date_of_birth',\n",
      "       'outcome_subtype', 'outcome_type', 'sex_upon_outcome',\n",
      "       'age_upon_outcome_(days)', 'age_upon_outcome_(years)',\n",
      "       'age_upon_outcome_age_group', 'outcome_datetime', 'outcome_month',\n",
      "       'outcome_year', 'outcome_monthyear', 'outcome_weekday', 'outcome_hour',\n",
      "       'outcome_number', 'dob_year', 'dob_month', 'dob_monthyear',\n",
      "       'age_upon_intake', 'animal_id_intake', 'animal_type', 'breed', 'color',\n",
      "       'found_location', 'intake_condition', 'intake_type', 'sex_upon_intake',\n",
      "       'count', 'age_upon_intake_(days)', 'age_upon_intake_(years)',\n",
      "       'age_upon_intake_age_group', 'intake_datetime', 'intake_month',\n",
      "       'intake_year', 'intake_monthyear', 'intake_weekday', 'intake_hour',\n",
      "       'intake_number', 'time_in_shelter', 'time_in_shelter_days'],\n",
      "      dtype='object')\n"
     ]
    }
   ],
   "source": [
    "dataset = pd.read_csv(\"Data/dogs_intakes_outcomes_working.csv\")\n",
    "\n",
    "print (dataset.columns)"
   ]
  },
  {
   "cell_type": "markdown",
   "metadata": {},
   "source": [
    "## Split sex upon intake into two features"
   ]
  },
  {
   "cell_type": "code",
   "execution_count": 4,
   "metadata": {},
   "outputs": [],
   "source": [
    "dataset['sex'] = np.where(dataset['sex_upon_intake'].str.contains('Male'), 'Male', 'Female')    \n",
    "dataset['spay/neuter'] = np.where(dataset['sex_upon_intake'].str.contains('Intact'), 'No', 'Yes')"
   ]
  },
  {
   "cell_type": "code",
   "execution_count": null,
   "metadata": {},
   "outputs": [],
   "source": []
  },
  {
   "cell_type": "markdown",
   "metadata": {},
   "source": [
    "## Denote if intake is mixed or purebred"
   ]
  },
  {
   "cell_type": "code",
   "execution_count": 5,
   "metadata": {},
   "outputs": [],
   "source": [
    "dataset['mixed_breed'] = np.where((dataset['breed'].str.contains('Mix')) \n",
    "                                  | (dataset['breed'].str.contains('/')), 'Mixed', 'Purebred')"
   ]
  },
  {
   "cell_type": "markdown",
   "metadata": {},
   "source": [
    "## Split color feature into two colors and one pattern feature"
   ]
  },
  {
   "cell_type": "code",
   "execution_count": 6,
   "metadata": {},
   "outputs": [],
   "source": [
    "coat_patterns = ['bicolor', 'tricolor', 'merle', 'tuxedo', 'harlequin', 'spotted', 'tick', 'ticked', 'fleck', \n",
    "                 'flecked', 'speck', 'speckled', 'brindle', 'saddle', 'blanket', 'sable', 'hairless']\n",
    "coat_reg = '(' + '|'.join(coat_patterns) + ')'\n",
    "\n",
    "dataset['color'] = dataset['color'].str.lower()\n",
    "\n",
    "dataset['coat_pattern'] = dataset['color'].str.extract(coat_reg, expand=False)\n",
    "\n"
   ]
  },
  {
   "cell_type": "markdown",
   "metadata": {},
   "source": [
    "# Concat colors and coat into coat field"
   ]
  },
  {
   "cell_type": "code",
   "execution_count": 7,
   "metadata": {
    "scrolled": true
   },
   "outputs": [],
   "source": [
    "dataset = pd.concat([dataset, \n",
    "                     dataset['color'].str.split('/', expand=True).rename(columns={0:'color1', 1:'color2'})], axis=1)\n",
    "\n",
    "dataset['color1'] = np.where(dataset['color1'] == '', 'Breed Specific', dataset['color1'])\n",
    "\n",
    "dataset['coat'] = np.where(dataset['color1'] == 'Breed Specific', dataset['coat_pattern'], dataset['color1'])"
   ]
  },
  {
   "cell_type": "markdown",
   "metadata": {},
   "source": [
    "## Clean coat colors"
   ]
  },
  {
   "cell_type": "code",
   "execution_count": 8,
   "metadata": {},
   "outputs": [
    {
     "name": "stdout",
     "output_type": "stream",
     "text": [
      "black             11606\n",
      "white              8064\n",
      "brown              6967\n",
      "tan                5947\n",
      "brown brindle      2163\n",
      "tricolor           2087\n",
      "red                2064\n",
      "blue               1754\n",
      "sable               745\n",
      "cream               646\n",
      "yellow              615\n",
      "buff                547\n",
      "gray                501\n",
      "blue merle          394\n",
      "black brindle       288\n",
      "gold                187\n",
      "brown merle         175\n",
      "blue tick           126\n",
      "silver              112\n",
      "red merle           110\n",
      "red tick            107\n",
      "yellow brindle       82\n",
      "orange               79\n",
      "Name: coat, dtype: int64\n"
     ]
    }
   ],
   "source": [
    "dataset['coat'] = np.where(dataset['coat'] == 'fawn', 'tan', dataset['coat'])\n",
    "dataset['coat'] = np.where(dataset['coat'] == 'chocolate', 'brown', dataset['coat'])\n",
    "dataset['coat'] = np.where(dataset['coat'] == 'ruddy', 'red', dataset['coat'])\n",
    "dataset['coat'] = np.where(dataset['coat'] == 'liver', 'brown', dataset['coat'])\n",
    "dataset['coat'] = np.where(dataset['coat'] == 'agouti', 'brown brindle', dataset['coat'])\n",
    "dataset['coat'] = np.where(dataset['coat'] == 'liver tick', 'brown brindle', dataset['coat'])\n",
    "dataset['coat'] = np.where(dataset['coat'] == 'brown tiger', 'brown', dataset['coat'])\n",
    "dataset['coat'] = np.where(dataset['coat'] == 'blue tiger', 'blue', dataset['coat'])\n",
    "dataset['coat'] = np.where(dataset['coat'] == 'black tiger', 'black', dataset['coat'])\n",
    "dataset['coat'] = np.where(dataset['coat'] == 'blue smoke', 'blue', dataset['coat'])\n",
    "dataset['coat'] = np.where(dataset['coat'] == 'black smoke', 'black', dataset['coat'])\n",
    "dataset['coat'] = np.where(dataset['coat'] == 'apricot', 'orange', dataset['coat'])\n",
    "dataset['coat'] = np.where(dataset['coat'] == 'blue cream', 'blue', dataset['coat'])\n",
    "\n",
    "coats = dataset['coat'].value_counts()\n",
    "print(coats)"
   ]
  },
  {
   "cell_type": "markdown",
   "metadata": {},
   "source": [
    "# Bin continuous column into multiple buckets"
   ]
  },
  {
   "cell_type": "code",
   "execution_count": 9,
   "metadata": {},
   "outputs": [
    {
     "name": "stdout",
     "output_type": "stream",
     "text": [
      "(4.197, 5.065]        3786\n",
      "(-0.001, 0.21]        3784\n",
      "(2.093, 3.853]        3782\n",
      "(42.261, 1606.194]    3781\n",
      "(8.161, 11.117]       3781\n",
      "(19.116, 42.261]      3780\n",
      "(11.117, 19.116]      3780\n",
      "(3.853, 4.197]        3779\n",
      "(1.04, 2.093]         3779\n",
      "(0.21, 1.04]          3779\n",
      "(5.065, 6.156]        3778\n",
      "(6.156, 8.161]        3777\n",
      "Name: time_in_shelter_days_12, dtype: int64\n"
     ]
    }
   ],
   "source": [
    "dataset['time_in_shelter_days_12'], bins = pd.qcut(dataset['time_in_shelter_days'], q=12, retbins=True)\n",
    "time = dataset['time_in_shelter_days_12'].value_counts()\n",
    "\n",
    "print(time)"
   ]
  },
  {
   "cell_type": "markdown",
   "metadata": {},
   "source": [
    "# Create bully breed field"
   ]
  },
  {
   "cell_type": "code",
   "execution_count": 10,
   "metadata": {},
   "outputs": [],
   "source": [
    "dataset['Bully_breed'] = np.where((dataset['breed'].str.contains('Pit Bull')) | \n",
    "                                (dataset['breed'].str.contains('Staffordshire')) | \n",
    "                                (dataset['breed'].str.contains('Bull Terrier')), \n",
    "                                'Bully', 'Not Bully')"
   ]
  },
  {
   "cell_type": "markdown",
   "metadata": {},
   "source": [
    "## Create new feature for puppy/adult"
   ]
  },
  {
   "cell_type": "code",
   "execution_count": 11,
   "metadata": {},
   "outputs": [],
   "source": [
    "# puppies definied as younger than 12 months\n",
    "dataset['Puppy/Dog_intake'] = np.where(dataset['age_upon_intake_(days)'] < 365, 'Puppy', 'Dog')"
   ]
  },
  {
   "cell_type": "markdown",
   "metadata": {},
   "source": [
    "# Clean intake conditions"
   ]
  },
  {
   "cell_type": "code",
   "execution_count": 16,
   "metadata": {},
   "outputs": [
    {
     "name": "stdout",
     "output_type": "stream",
     "text": [
      "Normal      41558\n",
      "Injured      1793\n",
      "Sick         1016\n",
      "Nursing       585\n",
      "Aged          277\n",
      "Pregnant       32\n",
      "Name: intake_condition, dtype: int64\n"
     ]
    }
   ],
   "source": [
    "dataset['intake_condition_clean'] = np.where(dataset['outcome_subtype'].str.contains('Suffering') |\n",
    "                                             dataset['outcome_subtype'].str.contains('Medical') |\n",
    "                                             dataset['outcome_subtype'].str.contains('Rabies Risk') |\n",
    "                                             dataset['intake_condition'].str.contains('Sick') , 'Sick', 'Normal')\n",
    "\n",
    "dataset['intake_condition_clean'] = np.where(dataset['intake_condition'].str.contains('Injured') , \n",
    "                                             'Injured', dataset['intake_condition_clean'])\n",
    "dataset['intake_condition_clean'] = np.where(dataset['intake_condition'].str.contains('Nursing') , \n",
    "                                             'Nursing', dataset['intake_condition_clean'])\n",
    "\n",
    "dataset['intake_condition_clean'] = np.where(dataset['outcome_subtype'].str.contains('Aggressive') |\n",
    "                                             dataset['outcome_subtype'].str.contains('Behavior'), \n",
    "                                             'Aggressive', dataset['intake_condition_clean'])\n",
    "\n",
    "condition = dataset['intake_condition'].value_counts()\n",
    "\n",
    "dataset.drop(dataset[dataset['intake_condition'].str.contains('Other') ].index, inplace = True) \n",
    "dataset.drop(dataset[dataset['intake_condition'].str.contains('Feral') ].index, inplace = True) \n",
    "print(condition)\n",
    "\n",
    "intake_types = dataset['intake_condition'].value_counts()"
   ]
  },
  {
   "cell_type": "markdown",
   "metadata": {},
   "source": [
    "# Drop nan values from important features"
   ]
  },
  {
   "cell_type": "code",
   "execution_count": 13,
   "metadata": {},
   "outputs": [],
   "source": [
    "dataset.dropna(subset = [\"sex\"], inplace=True)\n",
    "dataset.dropna(subset = [\"outcome_type\"], inplace=True)\n"
   ]
  },
  {
   "cell_type": "markdown",
   "metadata": {},
   "source": [
    "## Save cleaned dataset"
   ]
  },
  {
   "cell_type": "code",
   "execution_count": 14,
   "metadata": {},
   "outputs": [],
   "source": [
    "dataset.to_csv('Data/dogs_intakes_outcomes_clean.csv', index=False, encoding='utf-8')"
   ]
  },
  {
   "cell_type": "markdown",
   "metadata": {},
   "source": [
    "## Save bins"
   ]
  },
  {
   "cell_type": "code",
   "execution_count": 15,
   "metadata": {},
   "outputs": [
    {
     "data": {
      "text/plain": [
       "['Data/bins.pkl']"
      ]
     },
     "execution_count": 15,
     "metadata": {},
     "output_type": "execute_result"
    }
   ],
   "source": [
    "jl.dump(bins, 'Data/bins.pkl') "
   ]
  }
 ],
 "metadata": {
  "kernelspec": {
   "display_name": "Python 3",
   "language": "python",
   "name": "python3"
  },
  "language_info": {
   "codemirror_mode": {
    "name": "ipython",
    "version": 3
   },
   "file_extension": ".py",
   "mimetype": "text/x-python",
   "name": "python",
   "nbconvert_exporter": "python",
   "pygments_lexer": "ipython3",
   "version": "3.7.4"
  }
 },
 "nbformat": 4,
 "nbformat_minor": 4
}
