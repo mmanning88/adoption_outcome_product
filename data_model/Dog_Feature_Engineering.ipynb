{
 "cells": [
  {
   "cell_type": "markdown",
   "metadata": {},
   "source": [
    "# Feature Engineering"
   ]
  },
  {
   "cell_type": "markdown",
   "metadata": {},
   "source": [
    "## Import libraries"
   ]
  },
  {
   "cell_type": "code",
   "execution_count": 19,
   "metadata": {},
   "outputs": [],
   "source": [
    "import requests\n",
    "import pandas as pd\n",
    "import numpy as np\n",
    "import matplotlib.pyplot as plt"
   ]
  },
  {
   "cell_type": "markdown",
   "metadata": {},
   "source": [
    "## Import dataset"
   ]
  },
  {
   "cell_type": "code",
   "execution_count": 20,
   "metadata": {},
   "outputs": [],
   "source": [
    "dataset = pd.read_csv(\"Data/dogs_intakes_outcomes_working.csv\")"
   ]
  },
  {
   "cell_type": "markdown",
   "metadata": {},
   "source": [
    "## Split sex upon intake into two features"
   ]
  },
  {
   "cell_type": "code",
   "execution_count": 21,
   "metadata": {},
   "outputs": [],
   "source": [
    "dataset['sex'] = np.where(dataset['sex_upon_intake'].str.contains('Male'), 'Male', 'Female')    \n",
    "dataset['spay/neuter'] = np.where(dataset['sex_upon_intake'].str.contains('Intact'), 'No', 'Yes')"
   ]
  },
  {
   "cell_type": "code",
   "execution_count": 22,
   "metadata": {},
   "outputs": [],
   "source": [
    "dataset.dropna(subset = [\"sex\"], inplace=True)"
   ]
  },
  {
   "cell_type": "code",
   "execution_count": 23,
   "metadata": {},
   "outputs": [
    {
     "data": {
      "text/plain": [
       "age_upon_outcome              0.000000\n",
       "animal_id_outcome             0.000000\n",
       "date_of_birth                 0.000000\n",
       "outcome_subtype               0.696513\n",
       "outcome_type                  0.000044\n",
       "sex_upon_outcome              0.000022\n",
       "age_upon_outcome_(days)       0.000000\n",
       "age_upon_outcome_(years)      0.000000\n",
       "age_upon_outcome_age_group    0.000000\n",
       "outcome_datetime              0.000000\n",
       "outcome_month                 0.000000\n",
       "outcome_year                  0.000000\n",
       "outcome_monthyear             0.000000\n",
       "outcome_weekday               0.000000\n",
       "outcome_hour                  0.000000\n",
       "outcome_number                0.000000\n",
       "dob_year                      0.000000\n",
       "dob_month                     0.000000\n",
       "dob_monthyear                 0.000000\n",
       "age_upon_intake               0.000000\n",
       "animal_id_intake              0.000000\n",
       "animal_type                   0.000000\n",
       "breed                         0.000000\n",
       "color                         0.000000\n",
       "found_location                0.000000\n",
       "intake_condition              0.000000\n",
       "intake_type                   0.000000\n",
       "sex_upon_intake               0.000022\n",
       "count                         0.000000\n",
       "age_upon_intake_(days)        0.000000\n",
       "age_upon_intake_(years)       0.000000\n",
       "age_upon_intake_age_group     0.000000\n",
       "intake_datetime               0.000000\n",
       "intake_month                  0.000000\n",
       "intake_year                   0.000000\n",
       "intake_monthyear              0.000000\n",
       "intake_weekday                0.000000\n",
       "intake_hour                   0.000000\n",
       "intake_number                 0.000000\n",
       "time_in_shelter               0.000000\n",
       "time_in_shelter_days          0.000000\n",
       "sex                           0.000000\n",
       "spay/neuter                   0.000000\n",
       "dtype: float64"
      ]
     },
     "execution_count": 23,
     "metadata": {},
     "output_type": "execute_result"
    }
   ],
   "source": []
  },
  {
   "cell_type": "markdown",
   "metadata": {},
   "source": [
    "## Denote if intake is mixed or purebred"
   ]
  },
  {
   "cell_type": "code",
   "execution_count": 24,
   "metadata": {},
   "outputs": [],
   "source": [
    "dataset['mixed_breed'] = np.where((dataset['breed'].str.contains('Mix')) | (dataset['breed'].str.contains('/')), True, False)"
   ]
  },
  {
   "cell_type": "markdown",
   "metadata": {},
   "source": [
    "## Split color feature into two colors and one pattern feature"
   ]
  },
  {
   "cell_type": "code",
   "execution_count": 25,
   "metadata": {},
   "outputs": [],
   "source": [
    "coat_patterns = ['bicolor', 'tricolor', 'merle', 'tuxedo', 'harlequin', 'spotted', 'tick', 'ticked', 'fleck', \n",
    "                 'flecked', 'speck', 'speckled', 'brindle', 'saddle', 'blanket', 'sable', 'hairless']\n",
    "coat_reg = '(' + '|'.join(coat_patterns) + ')'\n",
    "\n",
    "dataset['color'] = dataset['color'].str.lower()\n",
    "\n",
    "dataset['coat_pattern'] = dataset['color'].str.extract(coat_reg, expand=False)"
   ]
  },
  {
   "cell_type": "markdown",
   "metadata": {},
   "source": [
    "# Concat colors and coat into coat field"
   ]
  },
  {
   "cell_type": "code",
   "execution_count": 26,
   "metadata": {
    "scrolled": true
   },
   "outputs": [],
   "source": [
    "dataset = pd.concat([dataset, \n",
    "                     dataset['color'].str.split('/', expand=True).rename(columns={0:'color1', 1:'color2'})], axis=1)\n",
    "\n",
    "dataset['color1'] = np.where(dataset['color1'] == '', 'Breed Specific', dataset['color1'])\n",
    "\n",
    "dataset['coat'] = np.where(dataset['color1'] == 'Breed Specific', dataset['coat_pattern'], dataset['color1'])"
   ]
  },
  {
   "cell_type": "markdown",
   "metadata": {},
   "source": [
    "# Turn weekday strings into numeric values"
   ]
  },
  {
   "cell_type": "code",
   "execution_count": null,
   "metadata": {},
   "outputs": [],
   "source": [
    "dataset['intake_weekday_num'] = np."
   ]
  },
  {
   "cell_type": "markdown",
   "metadata": {},
   "source": [
    "# Bin continuous column into multiple buckets"
   ]
  },
  {
   "cell_type": "code",
   "execution_count": 27,
   "metadata": {},
   "outputs": [
    {
     "data": {
      "text/plain": [
       "0        (-0.001, 1.04]\n",
       "1         (1.04, 3.853]\n",
       "2         (1.04, 3.853]\n",
       "3        (3.853, 5.065]\n",
       "4        (-0.001, 1.04]\n",
       "              ...      \n",
       "45361    (3.853, 5.065]\n",
       "45362    (5.065, 8.161]\n",
       "45363    (-0.001, 1.04]\n",
       "45364     (1.04, 3.853]\n",
       "45365    (-0.001, 1.04]\n",
       "Name: time_in_shelter_days, Length: 45366, dtype: category\n",
       "Categories (6, interval[float64]): [(-0.001, 1.04] < (1.04, 3.853] < (3.853, 5.065] < (5.065, 8.161] < (8.161, 19.116] < (19.116, 1606.194]]"
      ]
     },
     "execution_count": 27,
     "metadata": {},
     "output_type": "execute_result"
    }
   ],
   "source": [
    "dataset['time_in_shelter_days'].describe()\n",
    "pd.qcut(dataset['time_in_shelter_days'], q=6)\n"
   ]
  },
  {
   "cell_type": "markdown",
   "metadata": {},
   "source": [
    "## Save cleaned dataset"
   ]
  },
  {
   "cell_type": "code",
   "execution_count": 28,
   "metadata": {},
   "outputs": [],
   "source": [
    "dataset.to_csv('Data/dogs_intakes_outcomes_clean.csv', index=False, encoding='utf-8')"
   ]
  },
  {
   "cell_type": "code",
   "execution_count": 29,
   "metadata": {},
   "outputs": [
    {
     "data": {
      "text/plain": [
       "age_upon_outcome              0.000000\n",
       "animal_id_outcome             0.000000\n",
       "date_of_birth                 0.000000\n",
       "outcome_subtype               0.696513\n",
       "outcome_type                  0.000044\n",
       "sex_upon_outcome              0.000022\n",
       "age_upon_outcome_(days)       0.000000\n",
       "age_upon_outcome_(years)      0.000000\n",
       "age_upon_outcome_age_group    0.000000\n",
       "outcome_datetime              0.000000\n",
       "outcome_month                 0.000000\n",
       "outcome_year                  0.000000\n",
       "outcome_monthyear             0.000000\n",
       "outcome_weekday               0.000000\n",
       "outcome_hour                  0.000000\n",
       "outcome_number                0.000000\n",
       "dob_year                      0.000000\n",
       "dob_month                     0.000000\n",
       "dob_monthyear                 0.000000\n",
       "age_upon_intake               0.000000\n",
       "animal_id_intake              0.000000\n",
       "animal_type                   0.000000\n",
       "breed                         0.000000\n",
       "color                         0.000000\n",
       "found_location                0.000000\n",
       "intake_condition              0.000000\n",
       "intake_type                   0.000000\n",
       "sex_upon_intake               0.000022\n",
       "count                         0.000000\n",
       "age_upon_intake_(days)        0.000000\n",
       "age_upon_intake_(years)       0.000000\n",
       "age_upon_intake_age_group     0.000000\n",
       "intake_datetime               0.000000\n",
       "intake_month                  0.000000\n",
       "intake_year                   0.000000\n",
       "intake_monthyear              0.000000\n",
       "intake_weekday                0.000000\n",
       "intake_hour                   0.000000\n",
       "intake_number                 0.000000\n",
       "time_in_shelter               0.000000\n",
       "time_in_shelter_days          0.000000\n",
       "sex                           0.000000\n",
       "spay/neuter                   0.000000\n",
       "mixed_breed                   0.000000\n",
       "coat_pattern                  0.839990\n",
       "color1                        0.000000\n",
       "color2                        0.349182\n",
       "coat                          0.000000\n",
       "dtype: float64"
      ]
     },
     "execution_count": 29,
     "metadata": {},
     "output_type": "execute_result"
    }
   ],
   "source": [
    "dataset.apply(lambda x: sum(x.isnull()/len(dataset)))"
   ]
  },
  {
   "cell_type": "code",
   "execution_count": null,
   "metadata": {},
   "outputs": [],
   "source": []
  }
 ],
 "metadata": {
  "kernelspec": {
   "display_name": "Python 3",
   "language": "python",
   "name": "python3"
  },
  "language_info": {
   "codemirror_mode": {
    "name": "ipython",
    "version": 3
   },
   "file_extension": ".py",
   "mimetype": "text/x-python",
   "name": "python",
   "nbconvert_exporter": "python",
   "pygments_lexer": "ipython3",
   "version": "3.7.4"
  }
 },
 "nbformat": 4,
 "nbformat_minor": 2
}
