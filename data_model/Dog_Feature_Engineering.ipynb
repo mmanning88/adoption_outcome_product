{
 "cells": [
  {
   "cell_type": "markdown",
   "metadata": {},
   "source": [
    "# Feature Engineering"
   ]
  },
  {
   "cell_type": "markdown",
   "metadata": {},
   "source": [
    "## Import libraries"
   ]
  },
  {
   "cell_type": "code",
   "execution_count": 18,
   "metadata": {},
   "outputs": [],
   "source": [
    "import requests\n",
    "import pandas as pd\n",
    "import numpy as np\n",
    "import matplotlib.pyplot as plt\n",
    "import joblib as jl"
   ]
  },
  {
   "cell_type": "markdown",
   "metadata": {},
   "source": [
    "## Import dataset"
   ]
  },
  {
   "cell_type": "code",
   "execution_count": 19,
   "metadata": {},
   "outputs": [],
   "source": [
    "dataset = pd.read_csv(\"Data/dogs_intakes_outcomes_working.csv\")"
   ]
  },
  {
   "cell_type": "markdown",
   "metadata": {},
   "source": [
    "## Split sex upon intake into two features"
   ]
  },
  {
   "cell_type": "code",
   "execution_count": 20,
   "metadata": {},
   "outputs": [],
   "source": [
    "dataset['sex'] = np.where(dataset['sex_upon_intake'].str.contains('Male'), 'Male', 'Female')    \n",
    "dataset['spay/neuter'] = np.where(dataset['sex_upon_intake'].str.contains('Intact'), 'No', 'Yes')"
   ]
  },
  {
   "cell_type": "code",
   "execution_count": null,
   "metadata": {},
   "outputs": [],
   "source": []
  },
  {
   "cell_type": "markdown",
   "metadata": {},
   "source": [
    "## Denote if intake is mixed or purebred"
   ]
  },
  {
   "cell_type": "code",
   "execution_count": 21,
   "metadata": {},
   "outputs": [],
   "source": [
    "dataset['mixed_breed'] = np.where((dataset['breed'].str.contains('Mix')) | (dataset['breed'].str.contains('/')), 'Mixed', 'Purebred')"
   ]
  },
  {
   "cell_type": "markdown",
   "metadata": {},
   "source": [
    "## Split color feature into two colors and one pattern feature"
   ]
  },
  {
   "cell_type": "code",
   "execution_count": 22,
   "metadata": {},
   "outputs": [],
   "source": [
    "coat_patterns = ['bicolor', 'tricolor', 'merle', 'tuxedo', 'harlequin', 'spotted', 'tick', 'ticked', 'fleck', \n",
    "                 'flecked', 'speck', 'speckled', 'brindle', 'saddle', 'blanket', 'sable', 'hairless']\n",
    "coat_reg = '(' + '|'.join(coat_patterns) + ')'\n",
    "\n",
    "dataset['color'] = dataset['color'].str.lower()\n",
    "\n",
    "dataset['coat_pattern'] = dataset['color'].str.extract(coat_reg, expand=False)\n",
    "\n"
   ]
  },
  {
   "cell_type": "markdown",
   "metadata": {},
   "source": [
    "# Concat colors and coat into coat field"
   ]
  },
  {
   "cell_type": "code",
   "execution_count": 23,
   "metadata": {
    "scrolled": true
   },
   "outputs": [],
   "source": [
    "dataset = pd.concat([dataset, \n",
    "                     dataset['color'].str.split('/', expand=True).rename(columns={0:'color1', 1:'color2'})], axis=1)\n",
    "\n",
    "dataset['color1'] = np.where(dataset['color1'] == '', 'Breed Specific', dataset['color1'])\n",
    "\n",
    "dataset['coat'] = np.where(dataset['color1'] == 'Breed Specific', dataset['coat_pattern'], dataset['color1'])\n",
    "\n"
   ]
  },
  {
   "cell_type": "markdown",
   "metadata": {},
   "source": [
    "## Clean coat colors"
   ]
  },
  {
   "cell_type": "code",
   "execution_count": 24,
   "metadata": {},
   "outputs": [],
   "source": [
    "dataset['coat'] = np.where(dataset['coat'] == 'fawn', 'tan', dataset['coat'])\n",
    "dataset['coat'] = np.where(dataset['coat'] == 'chocolate', 'brown', dataset['coat'])\n",
    "dataset['coat'] = np.where(dataset['coat'] == 'ruddy', 'red', dataset['coat'])\n",
    "dataset['coat'] = np.where(dataset['coat'] == 'liver', 'brown', dataset['coat'])\n",
    "dataset['coat'] = np.where(dataset['coat'] == 'agouti', 'brown brindle', dataset['coat'])\n",
    "dataset['coat'] = np.where(dataset['coat'] == 'liver tick', 'brown brindle', dataset['coat'])\n",
    "dataset['coat'] = np.where(dataset['coat'] == 'brown tiger', 'brown', dataset['coat'])\n",
    "dataset['coat'] = np.where(dataset['coat'] == 'blue tiger', 'blue', dataset['coat'])\n",
    "dataset['coat'] = np.where(dataset['coat'] == 'black tiger', 'black', dataset['coat'])\n",
    "dataset['coat'] = np.where(dataset['coat'] == 'blue smoke', 'blue', dataset['coat'])\n",
    "dataset['coat'] = np.where(dataset['coat'] == 'black smoke', 'black', dataset['coat'])\n",
    "dataset['coat'] = np.where(dataset['coat'] == 'apricot', 'orange', dataset['coat'])\n",
    "dataset['coat'] = np.where(dataset['coat'] == 'blue cream', 'blue', dataset['coat'])\n",
    "\n",
    "\n"
   ]
  },
  {
   "cell_type": "markdown",
   "metadata": {},
   "source": [
    "# Bin continuous column into multiple buckets"
   ]
  },
  {
   "cell_type": "code",
   "execution_count": 38,
   "metadata": {},
   "outputs": [
    {
     "name": "stdout",
     "output_type": "stream",
     "text": [
      "(3.853, 4.197]        3776\n",
      "(4.197, 5.065]        3774\n",
      "(0.21, 1.04]          3774\n",
      "(42.147, 1606.194]    3772\n",
      "(8.159, 11.115]       3772\n",
      "(-0.001, 0.21]        3772\n",
      "(19.103, 42.147]      3771\n",
      "(11.115, 19.103]      3771\n",
      "(2.092, 3.853]        3771\n",
      "(6.156, 8.159]        3770\n",
      "(1.04, 2.092]         3770\n",
      "(5.065, 6.156]        3768\n",
      "Name: time_in_shelter_days_12, dtype: int64\n"
     ]
    }
   ],
   "source": [
    "\n",
    "dataset['time_in_shelter_days_12'], bins = pd.qcut(dataset['time_in_shelter_days'], q=12, retbins=True)\n",
    "time = dataset['time_in_shelter_days_12'].value_counts()\n",
    "\n",
    "print(time)"
   ]
  },
  {
   "cell_type": "markdown",
   "metadata": {},
   "source": [
    "# Create bully breed field"
   ]
  },
  {
   "cell_type": "code",
   "execution_count": 32,
   "metadata": {},
   "outputs": [],
   "source": [
    "dataset['Bully_breed'] = np.where((dataset['breed'].str.contains('Pit Bull')) | \n",
    "                                (dataset['breed'].str.contains('Staffordshire')) | \n",
    "                                (dataset['breed'].str.contains('Bull Terrier')), \n",
    "                                'Bully', 'Not Bully')"
   ]
  },
  {
   "cell_type": "markdown",
   "metadata": {},
   "source": [
    "## Create new feature for puppy/adult"
   ]
  },
  {
   "cell_type": "code",
   "execution_count": 33,
   "metadata": {},
   "outputs": [],
   "source": [
    "# puppies definied as younger than 6 months\n",
    "\n",
    "dataset['Puppy/Dog_intake'] = np.where(dataset['age_upon_intake_(days)'] < 365, 'Puppy', 'Dog')"
   ]
  },
  {
   "cell_type": "markdown",
   "metadata": {},
   "source": [
    "# Clean intake conditions"
   ]
  },
  {
   "cell_type": "code",
   "execution_count": 34,
   "metadata": {},
   "outputs": [
    {
     "name": "stdout",
     "output_type": "stream",
     "text": [
      "Normal      41558\n",
      "Injured      1793\n",
      "Sick         1016\n",
      "Nursing       585\n",
      "Aged          277\n",
      "Pregnant       32\n",
      "Name: intake_condition, dtype: int64\n",
      "Stray                 32090\n",
      "Owner Surrender        8915\n",
      "Public Assist          4075\n",
      "Euthanasia Request      181\n",
      "Name: intake_type, dtype: int64\n"
     ]
    }
   ],
   "source": [
    "dataset['intake_condition_clean'] = np.where(dataset['outcome_subtype'].str.contains('Suffering') |\n",
    "                                             dataset['outcome_subtype'].str.contains('Medical') |\n",
    "                                             dataset['outcome_subtype'].str.contains('Rabies Risk') |\n",
    "                                             dataset['intake_condition'].str.contains('Sick') , 'Sick', 'Normal')\n",
    "\n",
    "dataset['intake_condition_clean'] = np.where(dataset['intake_condition'].str.contains('Injured') , 'Injured', dataset['intake_condition_clean'])\n",
    "dataset['intake_condition_clean'] = np.where(dataset['intake_condition'].str.contains('Nursing') , 'Nursing', dataset['intake_condition_clean'])\n",
    "\n",
    "dataset['intake_condition_clean'] = np.where(dataset['outcome_subtype'].str.contains('Aggressive') |\n",
    "                                             dataset['outcome_subtype'].str.contains('Behavior'), 'Aggressive', dataset['intake_condition_clean'])\n",
    "\n",
    "condition = dataset['intake_condition'].value_counts()\n",
    "\n",
    "dataset.drop(dataset[dataset['intake_condition'].str.contains('Other') ].index, inplace = True) \n",
    "dataset.drop(dataset[dataset['intake_condition'].str.contains('Feral') ].index, inplace = True) \n",
    "print(condition)\n",
    "\n",
    "\n",
    "intake_types = dataset['intake_type'].value_counts()\n",
    "print(intake_types)"
   ]
  },
  {
   "cell_type": "markdown",
   "metadata": {},
   "source": [
    "# Change transfer outcomes into adoption"
   ]
  },
  {
   "cell_type": "code",
   "execution_count": null,
   "metadata": {},
   "outputs": [],
   "source": []
  },
  {
   "cell_type": "markdown",
   "metadata": {},
   "source": [
    "# Drop nan values from important features"
   ]
  },
  {
   "cell_type": "code",
   "execution_count": 35,
   "metadata": {},
   "outputs": [],
   "source": [
    "dataset.dropna(subset = [\"sex\"], inplace=True)\n",
    "dataset.dropna(subset = [\"outcome_type\"], inplace=True)\n"
   ]
  },
  {
   "cell_type": "markdown",
   "metadata": {},
   "source": [
    "# Reorder columns"
   ]
  },
  {
   "cell_type": "code",
   "execution_count": null,
   "metadata": {
    "scrolled": true
   },
   "outputs": [],
   "source": []
  },
  {
   "cell_type": "markdown",
   "metadata": {},
   "source": [
    "## Save cleaned dataset"
   ]
  },
  {
   "cell_type": "code",
   "execution_count": 36,
   "metadata": {},
   "outputs": [],
   "source": [
    "dataset.to_csv('Data/dogs_intakes_outcomes_clean.csv', index=False, encoding='utf-8')"
   ]
  },
  {
   "cell_type": "markdown",
   "metadata": {},
   "source": [
    "## Save bins"
   ]
  },
  {
   "cell_type": "code",
   "execution_count": 37,
   "metadata": {},
   "outputs": [
    {
     "data": {
      "text/plain": [
       "['Data/bins.pkl']"
      ]
     },
     "execution_count": 37,
     "metadata": {},
     "output_type": "execute_result"
    }
   ],
   "source": [
    "jl.dump(bins, 'Data/bins.pkl') "
   ]
  },
  {
   "cell_type": "code",
   "execution_count": null,
   "metadata": {},
   "outputs": [],
   "source": []
  }
 ],
 "metadata": {
  "kernelspec": {
   "display_name": "Python 3",
   "language": "python",
   "name": "python3"
  },
  "language_info": {
   "codemirror_mode": {
    "name": "ipython",
    "version": 3
   },
   "file_extension": ".py",
   "mimetype": "text/x-python",
   "name": "python",
   "nbconvert_exporter": "python",
   "pygments_lexer": "ipython3",
   "version": "3.7.4"
  }
 },
 "nbformat": 4,
 "nbformat_minor": 4
}
