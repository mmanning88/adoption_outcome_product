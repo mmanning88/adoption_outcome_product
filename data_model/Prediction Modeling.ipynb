{
 "cells": [
  {
   "cell_type": "markdown",
   "metadata": {},
   "source": [
    "## Import libraries"
   ]
  },
  {
   "cell_type": "code",
   "execution_count": 82,
   "metadata": {},
   "outputs": [],
   "source": [
    "import pandas as pd\n",
    "import numpy as np\n",
    "import seaborn as sns\n",
    "import matplotlib.pyplot as plt\n",
    "import itertools\n",
    "import joblib as jl\n",
    "from sklearn import preprocessing\n",
    "\n",
    "\n"
   ]
  },
  {
   "cell_type": "markdown",
   "metadata": {},
   "source": [
    "## Import Dataset"
   ]
  },
  {
   "cell_type": "code",
   "execution_count": 83,
   "metadata": {},
   "outputs": [],
   "source": [
    "dataset = pd.read_csv('Data/dogs_intakes_outcomes_clean.csv')\n",
    "\n"
   ]
  },
  {
   "cell_type": "markdown",
   "metadata": {},
   "source": [
    "# Check for null values in important features"
   ]
  },
  {
   "cell_type": "code",
   "execution_count": 84,
   "metadata": {},
   "outputs": [
    {
     "data": {
      "text/plain": [
       "age_upon_outcome              0.000000\n",
       "animal_id_outcome             0.000000\n",
       "date_of_birth                 0.000000\n",
       "outcome_subtype               0.696499\n",
       "outcome_type                  0.000000\n",
       "sex_upon_outcome              0.000022\n",
       "age_upon_outcome_(days)       0.000000\n",
       "age_upon_outcome_(years)      0.000000\n",
       "age_upon_outcome_age_group    0.000000\n",
       "outcome_datetime              0.000000\n",
       "outcome_month                 0.000000\n",
       "outcome_year                  0.000000\n",
       "outcome_monthyear             0.000000\n",
       "outcome_weekday               0.000000\n",
       "outcome_hour                  0.000000\n",
       "outcome_number                0.000000\n",
       "dob_year                      0.000000\n",
       "dob_month                     0.000000\n",
       "dob_monthyear                 0.000000\n",
       "age_upon_intake               0.000000\n",
       "animal_id_intake              0.000000\n",
       "animal_type                   0.000000\n",
       "breed                         0.000000\n",
       "color                         0.000000\n",
       "found_location                0.000000\n",
       "intake_condition              0.000000\n",
       "intake_type                   0.000000\n",
       "sex_upon_intake               0.000022\n",
       "count                         0.000000\n",
       "age_upon_intake_(days)        0.000000\n",
       "age_upon_intake_(years)       0.000000\n",
       "age_upon_intake_age_group     0.000000\n",
       "intake_datetime               0.000000\n",
       "intake_month                  0.000000\n",
       "intake_year                   0.000000\n",
       "intake_monthyear              0.000000\n",
       "intake_weekday                0.000000\n",
       "intake_hour                   0.000000\n",
       "intake_number                 0.000000\n",
       "time_in_shelter               0.000000\n",
       "time_in_shelter_days          0.000000\n",
       "sex                           0.000000\n",
       "spay/neuter                   0.000000\n",
       "mixed_breed                   0.000000\n",
       "coat_pattern                  0.839983\n",
       "color1                        0.000000\n",
       "color2                        0.349176\n",
       "coat                          0.000000\n",
       "time_in_shelter_days_12       0.000000\n",
       "time_in_shelter_days_6        0.000000\n",
       "Puppy/Dog_intake              0.000000\n",
       "Bully_breed                   0.000000\n",
       "dtype: float64"
      ]
     },
     "execution_count": 84,
     "metadata": {},
     "output_type": "execute_result"
    }
   ],
   "source": [
    "dataset.apply(lambda x: sum(x.isnull()/len(dataset)))"
   ]
  },
  {
   "cell_type": "markdown",
   "metadata": {},
   "source": [
    "## Setting dependent variable categories"
   ]
  },
  {
   "cell_type": "code",
   "execution_count": 85,
   "metadata": {},
   "outputs": [],
   "source": [
    "dataset =  dataset.loc[(dataset['outcome_type'] == 'Adoption')                                  \n",
    "                                 | (dataset['outcome_type'] == 'Transfer')\n",
    "                                 | (dataset['outcome_type'] == 'Return to Owner')]\n",
    "\n",
    "#dataset['outcome_subtype'] = np.where(pd.isnull(dataset['outcome_subtype']), \n",
    "#                                           dataset['outcome_type'], \n",
    "#                                           dataset['outcome_subtype'])"
   ]
  },
  {
   "cell_type": "code",
   "execution_count": 86,
   "metadata": {},
   "outputs": [],
   "source": [
    "x = dataset.filter(items=['sex', 'spay/neuter', 'mixed_breed', 'time_in_shelter_days_12',\n",
    "                         'coat', 'intake_hour', 'intake_weekday', 'intake_month', 'age_upon_intake_age_group',\n",
    "                         'intake_condition', 'intake_type', 'Puppy/Dog_intake', 'Bully_breed'])\n",
    "\n",
    "# ['sex', 'spay/neuter', 'mixed_breed', 'breed', 'time_in_shelter_days_6', 'coat'\n",
    "#                         , 'intake_hour', 'intake_weekday', 'intake_month', 'age_upon_intake_age_group',\n",
    "#                         'intake_condition', 'intake_type', 'Puppy/Dog_intake']"
   ]
  },
  {
   "cell_type": "code",
   "execution_count": 87,
   "metadata": {},
   "outputs": [],
   "source": [
    "for col in x:\n",
    "    x[col] = x[col].astype('category')\n",
    "    \n",
    "y = dataset['outcome_type'].astype('category')"
   ]
  },
  {
   "cell_type": "code",
   "execution_count": 88,
   "metadata": {},
   "outputs": [],
   "source": [
    "xd = pd.get_dummies(x)\n",
    "xnames = xd.columns\n",
    "xarr = np.array(xd)\n"
   ]
  },
  {
   "cell_type": "code",
   "execution_count": 89,
   "metadata": {},
   "outputs": [],
   "source": [
    "yarr, ynames = pd.factorize(dataset['outcome_type'])"
   ]
  },
  {
   "cell_type": "markdown",
   "metadata": {},
   "source": [
    "# Split x and y arrays into training and testing sets"
   ]
  },
  {
   "cell_type": "code",
   "execution_count": 90,
   "metadata": {},
   "outputs": [],
   "source": [
    "from sklearn.model_selection import train_test_split, cross_val_score, cross_val_predict, StratifiedKFold, GridSearchCV\n",
    "\n",
    "x_train, x_test, y_train, y_test = train_test_split(xarr, yarr, \n",
    "                                                    test_size=0.3, random_state=1)"
   ]
  },
  {
   "cell_type": "code",
   "execution_count": 91,
   "metadata": {},
   "outputs": [],
   "source": [
    "scaler = preprocessing.StandardScaler()\n",
    "\n",
    "x_train_scaled = scaler.fit_transform(x_train)\n",
    "x_test_scaled = scaler.transform(x_test)"
   ]
  },
  {
   "cell_type": "markdown",
   "metadata": {},
   "source": [
    "# Use PCA to reduce dimensions"
   ]
  },
  {
   "cell_type": "code",
   "execution_count": 92,
   "metadata": {},
   "outputs": [
    {
     "data": {
      "text/plain": [
       "PCA(copy=True, iterated_power='auto', n_components=None, random_state=None,\n",
       "    svd_solver='auto', tol=0.0, whiten=False)"
      ]
     },
     "execution_count": 92,
     "metadata": {},
     "output_type": "execute_result"
    }
   ],
   "source": [
    "from sklearn.decomposition import PCA\n",
    "\n",
    "pca = PCA()\n",
    "pca.fit(x_train_scaled)"
   ]
  },
  {
   "cell_type": "code",
   "execution_count": 93,
   "metadata": {},
   "outputs": [
    {
     "name": "stdout",
     "output_type": "stream",
     "text": [
      "121\n"
     ]
    }
   ],
   "source": [
    "print(len(pca.components_))\n"
   ]
  },
  {
   "cell_type": "markdown",
   "metadata": {},
   "source": [
    "# Chain kbest feature extration to PCA with feature union"
   ]
  },
  {
   "cell_type": "code",
   "execution_count": 94,
   "metadata": {},
   "outputs": [
    {
     "data": {
      "text/plain": [
       "Pipeline(memory=None,\n",
       "         steps=[('feature_union',\n",
       "                 FeatureUnion(n_jobs=None,\n",
       "                              transformer_list=[('pca',\n",
       "                                                 PCA(copy=True,\n",
       "                                                     iterated_power='auto',\n",
       "                                                     n_components=None,\n",
       "                                                     random_state=None,\n",
       "                                                     svd_solver='auto', tol=0.0,\n",
       "                                                     whiten=False)),\n",
       "                                                ('kbest',\n",
       "                                                 SelectKBest(k=10,\n",
       "                                                             score_func=<function f_classif at 0x000001E20D69D9D8>))],\n",
       "                              transformer_weights=None, verbose=False)),\n",
       "                ('rf',\n",
       "                 RandomForestClassifier(bootstrap=True,\n",
       "                                        class_weight='balanced_subsample',\n",
       "                                        criterion='gini', max_depth=None,\n",
       "                                        max_features='auto',\n",
       "                                        max_leaf_nodes=None,\n",
       "                                        min_impurity_decrease=0.0,\n",
       "                                        min_impurity_split=None,\n",
       "                                        min_samples_leaf=1, min_samples_split=2,\n",
       "                                        min_weight_fraction_leaf=0.0,\n",
       "                                        n_estimators=500, n_jobs=None,\n",
       "                                        oob_score=True, random_state=None,\n",
       "                                        verbose=0, warm_start=False))],\n",
       "         verbose=False)"
      ]
     },
     "execution_count": 94,
     "metadata": {},
     "output_type": "execute_result"
    }
   ],
   "source": [
    "from sklearn.feature_selection import SelectKBest\n",
    "from sklearn.pipeline import Pipeline, FeatureUnion\n",
    "from sklearn.ensemble import RandomForestClassifier\n",
    "\n",
    "feature_union = FeatureUnion([\n",
    "    ('pca', PCA()),\n",
    "    ('kbest', SelectKBest())\n",
    "])\n",
    "\n",
    "prediction_model = Pipeline([\n",
    "    ('feature_union', feature_union),\n",
    "    ('rf', RandomForestClassifier(n_estimators=500, criterion='gini', \n",
    "                                  class_weight='balanced_subsample', bootstrap=True, \n",
    "                                  oob_score=True))\n",
    "])\n",
    "\n",
    "prediction_model.fit(x_train_scaled, y_train)"
   ]
  },
  {
   "cell_type": "markdown",
   "metadata": {},
   "source": [
    "##### import warnings\n",
    "warnings.simplefilter('ignore')\n",
    "\n",
    "prediction_model.fit(x_train_scaled, y_train)"
   ]
  },
  {
   "cell_type": "markdown",
   "metadata": {},
   "source": [
    "# Test prediction with StratifiedKFold"
   ]
  },
  {
   "cell_type": "code",
   "execution_count": 95,
   "metadata": {
    "scrolled": true
   },
   "outputs": [],
   "source": [
    "from sklearn.metrics import accuracy_score, classification_report\n",
    "import warnings\n",
    "warnings.simplefilter('ignore')\n",
    "\n",
    "cv = StratifiedKFold(3)\n",
    "cv_score = cross_val_score(prediction_model, x_train_scaled, y_train, cv=cv, scoring='accuracy')\n",
    "cv_predict_score = cross_val_predict(prediction_model, x_train_scaled, y_train, cv=cv)"
   ]
  },
  {
   "cell_type": "code",
   "execution_count": 96,
   "metadata": {},
   "outputs": [
    {
     "name": "stdout",
     "output_type": "stream",
     "text": [
      "[0.74 0.75 0.75]\n",
      "0.7476464227388885\n",
      "0.7489913072002624\n"
     ]
    }
   ],
   "source": [
    "print(cv_score)\n",
    "print(np.mean(cv_score))\n",
    "\n",
    "print(accuracy_score(y_train, cv_predict_score))"
   ]
  },
  {
   "cell_type": "code",
   "execution_count": 97,
   "metadata": {},
   "outputs": [],
   "source": [
    "rf_pred = prediction_model.predict(x_test_scaled)"
   ]
  },
  {
   "cell_type": "code",
   "execution_count": 98,
   "metadata": {},
   "outputs": [
    {
     "name": "stdout",
     "output_type": "stream",
     "text": [
      "0.7407010561763355\n"
     ]
    }
   ],
   "source": [
    "print(accuracy_score(y_test, rf_pred))"
   ]
  },
  {
   "cell_type": "code",
   "execution_count": 99,
   "metadata": {},
   "outputs": [
    {
     "name": "stdout",
     "output_type": "stream",
     "text": [
      "Confusion matrix, without normalization\n",
      "[[3232   82  587]\n",
      " [ 319  647 2066]\n",
      " [ 215  119 5799]]\n",
      "Normalized confusion matrix\n",
      "[[0.83 0.02 0.15]\n",
      " [0.11 0.21 0.68]\n",
      " [0.04 0.02 0.95]]\n"
     ]
    },
    {
     "data": {
      "image/png": "[encoded data removed]",
      "text/plain": [
       "<Figure size 432x288 with 2 Axes>"
      ]
     },
     "metadata": {
      "needs_background": "light"
     },
     "output_type": "display_data"
    },
    {
     "data": {
      "image/png": "[encoded data removed]",
      "text/plain": [
       "<Figure size 432x288 with 2 Axes>"
      ]
     },
     "metadata": {
      "needs_background": "light"
     },
     "output_type": "display_data"
    }
   ],
   "source": [
    "from sklearn.metrics import confusion_matrix\n",
    "\n",
    "def plot_confusion_matrix(y_true, y_pred, classes,\n",
    "                          normalize=False,\n",
    "                          title=None,\n",
    "                          cmap=plt.cm.Blues):\n",
    "    \"\"\"\n",
    "    This function prints and plots the confusion matrix.\n",
    "    Normalization can be applied by setting `normalize=True`.\n",
    "    \"\"\"\n",
    "    if not title:\n",
    "        if normalize:\n",
    "            title = 'Normalized confusion matrix'\n",
    "        else:\n",
    "            title = 'Confusion matrix, without normalization'\n",
    "\n",
    "    # Compute confusion matrix\n",
    "    cm = confusion_matrix(y_true, y_pred)\n",
    "    # Only use the labels that appear in the data\n",
    "    classes = ynames\n",
    "    if normalize:\n",
    "        cm = cm.astype('float') / cm.sum(axis=1)[:, np.newaxis]\n",
    "        print(\"Normalized confusion matrix\")\n",
    "    else:\n",
    "        print('Confusion matrix, without normalization')\n",
    "\n",
    "    print(cm)\n",
    "\n",
    "    fig, ax = plt.subplots()\n",
    "    im = ax.imshow(cm, interpolation='nearest', cmap=cmap)\n",
    "    ax.figure.colorbar(im, ax=ax)\n",
    "    # We want to show all ticks...\n",
    "    ax.set(xticks=np.arange(cm.shape[1]),\n",
    "           yticks=np.arange(cm.shape[0]),\n",
    "           # ... and label them with the respective list entries\n",
    "           xticklabels=classes, yticklabels=classes,\n",
    "           title=title,\n",
    "           ylabel='True label',\n",
    "           xlabel='Predicted label')\n",
    "\n",
    "    # Rotate the tick labels and set their alignment.\n",
    "    plt.setp(ax.get_xticklabels(), rotation=45, ha=\"right\",\n",
    "             rotation_mode=\"anchor\")\n",
    "\n",
    "    # Loop over data dimensions and create text annotations.\n",
    "    fmt = '.2f' if normalize else 'd'\n",
    "    thresh = cm.max() / 2.\n",
    "    for i in range(cm.shape[0]):\n",
    "        for j in range(cm.shape[1]):\n",
    "            ax.text(j, i, format(cm[i, j], fmt),\n",
    "                    ha=\"center\", va=\"center\",\n",
    "                    color=\"white\" if cm[i, j] > thresh else \"black\")\n",
    "    fig.tight_layout()\n",
    "    return ax\n",
    "\n",
    "\n",
    "np.set_printoptions(precision=2)\n",
    "\n",
    "# Plot non-normalized confusion matrix\n",
    "plot_confusion_matrix(y_test, rf_pred, classes=ynames,\n",
    "                      title='Confusion matrix, without normalization')\n",
    "\n",
    "# Plot normalized confusion matrix\n",
    "plot_confusion_matrix(y_test, rf_pred, classes=ynames, normalize=True,\n",
    "                      title='Normalized confusion matrix')\n",
    "\n",
    "plt.show()"
   ]
  },
  {
   "cell_type": "code",
   "execution_count": 100,
   "metadata": {},
   "outputs": [
    {
     "data": {
      "text/plain": [
       "<matplotlib.axes._subplots.AxesSubplot at 0x1e20ec089c8>"
      ]
     },
     "execution_count": 100,
     "metadata": {},
     "output_type": "execute_result"
    },
    {
     "data": {
      "image/png": "[encoded data removed]",
      "text/plain": [
       "<Figure size 864x864 with 2 Axes>"
      ]
     },
     "metadata": {
      "needs_background": "light"
     },
     "output_type": "display_data"
    }
   ],
   "source": [
    "import scikitplot as skplt\n",
    "\n",
    "skplt.metrics.plot_confusion_matrix(y_test, rf_pred, figsize=(12,12))"
   ]
  },
  {
   "cell_type": "markdown",
   "metadata": {},
   "source": [
    "# Parameter tuning"
   ]
  },
  {
   "cell_type": "code",
   "execution_count": 101,
   "metadata": {},
   "outputs": [],
   "source": [
    "criterion = ['gini', 'entropy']\n",
    "components = [70, 100, 121]\n",
    "estimators = [100, 250, 500, 750]\n",
    "k = [10, 15, 20]"
   ]
  },
  {
   "cell_type": "code",
   "execution_count": 103,
   "metadata": {},
   "outputs": [],
   "source": [
    "from sklearn.multiclass import OneVsRestClassifier\n",
    "\n",
    "feature_union = FeatureUnion([\n",
    "    ('pca', PCA()),\n",
    "    ('kbest', SelectKBest())\n",
    "])\n",
    "\n",
    "prediction_model_tune = Pipeline([\n",
    "    ('feature_union', feature_union),\n",
    "    ('rf', OneVsRestClassifier(RandomForestClassifier(class_weight='balanced_subsample', \n",
    "                                                      bootstrap=True, oob_score=True)))\n",
    "])\n",
    "\n",
    "rf_gridcv = GridSearchCV(prediction_model_tune, dict(feature_union__pca__n_components=components, \n",
    "                                                     feature_union__kbest__k=k, \n",
    "                                                     rf__estimator__n_estimators=estimators, \n",
    "                                                     rf__estimator__criterion=criterion), \n",
    "                         scoring='accuracy', cv=cv, return_train_score=True)"
   ]
  },
  {
   "cell_type": "code",
   "execution_count": null,
   "metadata": {},
   "outputs": [],
   "source": [
    "rf_gridcv.fit(x_train_scaled, y_train)"
   ]
  },
  {
   "cell_type": "markdown",
   "metadata": {},
   "source": [
    "# Save model"
   ]
  },
  {
   "cell_type": "code",
   "execution_count": null,
   "metadata": {},
   "outputs": [],
   "source": [
    "joblib.dump(rf_gridcv, 'Data/rfg2.pkl') "
   ]
  },
  {
   "cell_type": "markdown",
   "metadata": {},
   "source": [
    "# Convert grid to pandas dataframa"
   ]
  },
  {
   "cell_type": "code",
   "execution_count": null,
   "metadata": {},
   "outputs": [],
   "source": [
    "results = pd.DataFrame(rf_gridcv.cv_results_)\n",
    "results.sort_values(by='rank_test_score', ascending=False, inplace=True)\n",
    "results.head()"
   ]
  },
  {
   "cell_type": "code",
   "execution_count": null,
   "metadata": {},
   "outputs": [],
   "source": []
  }
 ],
 "metadata": {
  "kernelspec": {
   "display_name": "Python 3",
   "language": "python",
   "name": "python3"
  },
  "language_info": {
   "codemirror_mode": {
    "name": "ipython",
    "version": 3
   },
   "file_extension": ".py",
   "mimetype": "text/x-python",
   "name": "python",
   "nbconvert_exporter": "python",
   "pygments_lexer": "ipython3",
   "version": "3.7.4"
  }
 },
 "nbformat": 4,
 "nbformat_minor": 4
}
