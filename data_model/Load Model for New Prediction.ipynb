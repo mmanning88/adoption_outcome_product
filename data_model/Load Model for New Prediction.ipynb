{
 "cells": [
  {
   "cell_type": "markdown",
   "metadata": {},
   "source": [
    "# Using Model to Predict Outcomes"
   ]
  },
  {
   "cell_type": "markdown",
   "metadata": {},
   "source": [
    "## Import Libraries"
   ]
  },
  {
   "cell_type": "code",
   "execution_count": 1,
   "metadata": {},
   "outputs": [],
   "source": [
    "import pandas as pd\n",
    "import numpy as np"
   ]
  },
  {
   "cell_type": "markdown",
   "metadata": {},
   "source": [
    "## Load best model and import dataset"
   ]
  },
  {
   "cell_type": "code",
   "execution_count": 2,
   "metadata": {
    "scrolled": true
   },
   "outputs": [],
   "source": [
    "from joblib import load\n",
    "classifier = load('Data/primary_model.pkl')\n",
    "ct = load('Data/primary_ct.pkl')\n",
    "x_columns = load('Data/columns.pkl')\n",
    "bins = load('Data/bins.pkl')"
   ]
  },
  {
   "cell_type": "code",
   "execution_count": 3,
   "metadata": {},
   "outputs": [
    {
     "name": "stdout",
     "output_type": "stream",
     "text": [
      "      sex spay/neuter mixed_breed  time_in_shelter_days_12    coat  \\\n",
      "0  Female         Yes       Mixed                        1  yellow   \n",
      "\n",
      "   intake_hour intake_weekday  intake_month  intake_year  \\\n",
      "0           14       Thursday            12         2017   \n",
      "\n",
      "  age_upon_intake_age_group intake_condition_clean intake_type  \\\n",
      "0               (7.5, 10.0]                   Sick       Stray   \n",
      "\n",
      "  Puppy/Dog_intake Bully_breed  \n",
      "0              Dog   Not Bully  \n",
      "      sex spay/neuter mixed_breed time_in_shelter_days_12    coat  \\\n",
      "0  Female         Yes       Mixed            (0.21, 1.04]  yellow   \n",
      "\n",
      "   intake_hour intake_weekday  intake_month  intake_year  \\\n",
      "0           14       Thursday            12         2017   \n",
      "\n",
      "  age_upon_intake_age_group intake_condition_clean intake_type  \\\n",
      "0               (7.5, 10.0]                   Sick       Stray   \n",
      "\n",
      "  Puppy/Dog_intake Bully_breed  \n",
      "0              Dog   Not Bully  \n"
     ]
    }
   ],
   "source": [
    "new_pred = [['Female','Yes','Mixed', 1, 'yellow', 14, 'Thursday', 12,\n",
    "                            2017, '(7.5, 10.0]', 'Sick', 'Stray', 'Dog', 'Not Bully']]\n",
    "new_pred = pd.DataFrame(new_pred,columns=x_columns)\n",
    "print(new_pred)\n",
    "new_pred['time_in_shelter_days_12']= pd.cut(new_pred['time_in_shelter_days_12'], bins=bins)\n",
    "print(new_pred)"
   ]
  },
  {
   "cell_type": "code",
   "execution_count": 20,
   "metadata": {},
   "outputs": [],
   "source": [
    "new_pred = [['Female','No','Mixed', '(0.21, 1.04]', 'yellow', 14, 'Thursday', 12,\n",
    "                            2017, 12, 'Sick', 'Stray', 'Dog', 'Not Bully']]\n",
    "new_pred = pd.DataFrame(new_pred,columns=x_columns)"
   ]
  },
  {
   "cell_type": "code",
   "execution_count": 21,
   "metadata": {},
   "outputs": [],
   "source": [
    "for col in new_pred:\n",
    "    new_pred[col] = new_pred[col].astype('category')\n",
    "\n"
   ]
  },
  {
   "cell_type": "code",
   "execution_count": 22,
   "metadata": {},
   "outputs": [],
   "source": [
    "new_pred = ct.transform(new_pred)"
   ]
  },
  {
   "cell_type": "markdown",
   "metadata": {},
   "source": [
    "## Single dog prediction"
   ]
  },
  {
   "cell_type": "code",
   "execution_count": 23,
   "metadata": {},
   "outputs": [
    {
     "name": "stdout",
     "output_type": "stream",
     "text": [
      "[3]\n"
     ]
    }
   ],
   "source": [
    "\n",
    "print(classifier.predict(new_pred))"
   ]
  },
  {
   "cell_type": "code",
   "execution_count": null,
   "metadata": {},
   "outputs": [],
   "source": []
  },
  {
   "cell_type": "code",
   "execution_count": null,
   "metadata": {},
   "outputs": [],
   "source": []
  },
  {
   "cell_type": "code",
   "execution_count": null,
   "metadata": {},
   "outputs": [],
   "source": []
  }
 ],
 "metadata": {
  "kernelspec": {
   "display_name": "Python 3",
   "language": "python",
   "name": "python3"
  },
  "language_info": {
   "codemirror_mode": {
    "name": "ipython",
    "version": 3
   },
   "file_extension": ".py",
   "mimetype": "text/x-python",
   "name": "python",
   "nbconvert_exporter": "python",
   "pygments_lexer": "ipython3",
   "version": "3.7.4"
  }
 },
 "nbformat": 4,
 "nbformat_minor": 4
}
